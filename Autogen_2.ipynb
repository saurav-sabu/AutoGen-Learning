{
  "nbformat": 4,
  "nbformat_minor": 0,
  "metadata": {
    "colab": {
      "provenance": []
    },
    "kernelspec": {
      "name": "python3",
      "display_name": "Python 3"
    },
    "language_info": {
      "name": "python"
    }
  },
  "cells": [
    {
      "cell_type": "code",
      "execution_count": 1,
      "metadata": {
        "colab": {
          "base_uri": "https://localhost:8080/"
        },
        "id": "UTlBLBuCD5dG",
        "outputId": "d86596ec-0d99-4e23-d3e3-a3c5c3e83f39"
      },
      "outputs": [
        {
          "output_type": "stream",
          "name": "stdout",
          "text": [
            "\u001b[?25l   \u001b[90m━━━━━━━━━━━━━━━━━━━━━━━━━━━━━━━━━━━━━━━━\u001b[0m \u001b[32m0.0/108.2 kB\u001b[0m \u001b[31m?\u001b[0m eta \u001b[36m-:--:--\u001b[0m\r\u001b[2K   \u001b[90m━━━━━━━━━━━━━━━━━━━━━━━━━━━━━━━━━━━━━━━━\u001b[0m \u001b[32m108.2/108.2 kB\u001b[0m \u001b[31m6.5 MB/s\u001b[0m eta \u001b[36m0:00:00\u001b[0m\n",
            "\u001b[?25h\u001b[?25l   \u001b[90m━━━━━━━━━━━━━━━━━━━━━━━━━━━━━━━━━━━━━━━━\u001b[0m \u001b[32m0.0/97.3 kB\u001b[0m \u001b[31m?\u001b[0m eta \u001b[36m-:--:--\u001b[0m\r\u001b[2K   \u001b[90m━━━━━━━━━━━━━━━━━━━━━━━━━━━━━━━━━━━━━━━━\u001b[0m \u001b[32m97.3/97.3 kB\u001b[0m \u001b[31m7.4 MB/s\u001b[0m eta \u001b[36m0:00:00\u001b[0m\n",
            "\u001b[?25h\u001b[?25l   \u001b[90m━━━━━━━━━━━━━━━━━━━━━━━━━━━━━━━━━━━━━━━━\u001b[0m \u001b[32m0.0/306.4 kB\u001b[0m \u001b[31m?\u001b[0m eta \u001b[36m-:--:--\u001b[0m\r\u001b[2K   \u001b[90m━━━━━━━━━━━━━━━━━━━━━━━━━━━━━━━━━━━━━━━━\u001b[0m \u001b[32m306.4/306.4 kB\u001b[0m \u001b[31m19.9 MB/s\u001b[0m eta \u001b[36m0:00:00\u001b[0m\n",
            "\u001b[?25h\u001b[?25l   \u001b[90m━━━━━━━━━━━━━━━━━━━━━━━━━━━━━━━━━━━━━━━━\u001b[0m \u001b[32m0.0/65.8 kB\u001b[0m \u001b[31m?\u001b[0m eta \u001b[36m-:--:--\u001b[0m\r\u001b[2K   \u001b[90m━━━━━━━━━━━━━━━━━━━━━━━━━━━━━━━━━━━━━━━━\u001b[0m \u001b[32m65.8/65.8 kB\u001b[0m \u001b[31m4.6 MB/s\u001b[0m eta \u001b[36m0:00:00\u001b[0m\n",
            "\u001b[?25h"
          ]
        }
      ],
      "source": [
        "! pip install -q autogen-agentchat autogen-ext[openai]"
      ]
    },
    {
      "cell_type": "code",
      "source": [
        "from google.colab import userdata\n",
        "import os\n",
        "from autogen_agentchat.agents import AssistantAgent\n",
        "from autogen_ext.models.openai import OpenAIChatCompletionClient\n",
        "\n",
        "GEMINI_API_KEY = userdata.get('GEMINI_API_KEY')\n",
        "os.environ['GEMINI_API_KEY'] = GEMINI_API_KEY"
      ],
      "metadata": {
        "id": "-qETQsj2OjkR"
      },
      "execution_count": 2,
      "outputs": []
    },
    {
      "cell_type": "code",
      "source": [
        "model_client = OpenAIChatCompletionClient(model=\"gemini-2.0-flash\")"
      ],
      "metadata": {
        "id": "cKjIZVgMO433"
      },
      "execution_count": 3,
      "outputs": []
    },
    {
      "cell_type": "code",
      "source": [
        "assistant = AssistantAgent(name=\"agent1\",model_client=model_client)\n",
        "\n",
        "result = await assistant.run(task = \"What is Generative AI\")\n",
        "print(result.messages[-1].content)"
      ],
      "metadata": {
        "colab": {
          "base_uri": "https://localhost:8080/"
        },
        "id": "nLyY9bm6O-YV",
        "outputId": "c7bd4155-a946-4fe8-8448-8f3aedd5d183"
      },
      "execution_count": 8,
      "outputs": [
        {
          "output_type": "stream",
          "name": "stdout",
          "text": [
            "Generative AI is a type of artificial intelligence that can create new content, such as text, images, music, and videos. It learns the underlying patterns and structures of the data it is trained on and then uses this knowledge to generate new, similar data.\n",
            "\n",
            "Here's a breakdown of key aspects:\n",
            "\n",
            "*   **Creation of New Content:** Unlike traditional AI that typically analyzes or classifies existing data, generative AI produces something entirely new. This is the defining characteristic.\n",
            "*   **Learning from Data:** Generative AI models are trained on massive datasets of existing content. The type of data depends on the type of output desired (e.g., text data for language models, image data for image generation models).\n",
            "*   **Underlying Models:** Several types of neural network architectures are commonly used in generative AI. Some of the most popular include:\n",
            "    *   **Generative Adversarial Networks (GANs):** GANs consist of two neural networks: a generator that creates new content and a discriminator that tries to distinguish between real and generated content. The two networks compete against each other, leading to increasingly realistic generated outputs.\n",
            "    *   **Variational Autoencoders (VAEs):** VAEs learn a probabilistic representation of the input data, allowing them to generate new data by sampling from this distribution.\n",
            "    *   **Transformers:** Transformers are particularly effective for sequence-to-sequence tasks, such as text generation. Large Language Models (LLMs) like GPT-3, LaMDA, and others are based on the Transformer architecture.\n",
            "    *   **Diffusion Models:** These models progressively add noise to data until it becomes pure noise, then learn to reverse this process, effectively creating new data from noise. They are particularly effective for image generation.\n",
            "\n",
            "*   **Applications:** Generative AI has a wide range of applications, including:\n",
            "    *   **Text Generation:** Writing articles, poems, scripts, code, and more.\n",
            "    *   **Image Generation:** Creating realistic or stylized images from text prompts or other inputs.\n",
            "    *   **Music Generation:** Composing original music in various styles.\n",
            "    *   **Video Generation:** Creating short videos or animations.\n",
            "    *   **Drug Discovery:** Designing new molecules with desired properties.\n",
            "    *   **Product Design:** Generating new product ideas and designs.\n",
            "    *   **Content Creation for Marketing and Advertising:** Generating copy, images, and videos for marketing campaigns.\n",
            "\n",
            "*   **Challenges and Considerations:**\n",
            "    *   **Bias:** Generative AI models can inherit biases present in the training data, leading to biased or discriminatory outputs.\n",
            "    *   **Ethical Concerns:** The ability to generate realistic fake content raises ethical concerns about misinformation and deepfakes.\n",
            "    *   **Copyright Issues:** The use of copyrighted material in training data can raise copyright infringement issues.\n",
            "    *   **Computational Resources:** Training large generative AI models can be computationally expensive.\n",
            "    *   **Control and Fine-Tuning:** Achieving precise control over the generated output can be challenging.\n",
            "\n",
            "In summary, Generative AI represents a significant advancement in AI, enabling machines to create novel and compelling content across various domains. Its potential applications are vast, but it's crucial to address the ethical and societal implications associated with its use.\n",
            "TERMINATE\n",
            "\n"
          ]
        }
      ]
    },
    {
      "cell_type": "markdown",
      "source": [
        "# System Message & Description"
      ],
      "metadata": {
        "id": "dgqvUPY2mFrH"
      }
    },
    {
      "cell_type": "code",
      "source": [
        "assistant = AssistantAgent(name=\"agent1\",\n",
        "                           model_client=model_client,\n",
        "                           description=\"Expert AI agent\",\n",
        "                           system_message=\"Give response in JSON format\")\n",
        "\n",
        "result = await assistant.run(task = \"What is Generative AI\")\n",
        "print(result.messages[-1].content)"
      ],
      "metadata": {
        "colab": {
          "base_uri": "https://localhost:8080/"
        },
        "id": "OFPmT6FLPSGy",
        "outputId": "5247a2e6-1f28-463e-ba82-08f5b4897a1e"
      },
      "execution_count": 10,
      "outputs": [
        {
          "output_type": "stream",
          "name": "stdout",
          "text": [
            "```json\n",
            "{\n",
            "  \"definition\": \"Generative AI refers to a class of artificial intelligence algorithms that are capable of generating new content, such as text, images, audio, video, and code. These models learn the underlying patterns and structures from existing data and then use this knowledge to create novel and original outputs that resemble the training data.\",\n",
            "  \"key_characteristics\": [\n",
            "    \"Learning from Data: Trained on vast datasets of existing content.\",\n",
            "    \"Pattern Recognition: Identifies patterns, relationships, and structures within the data.\",\n",
            "    \"Content Creation: Generates new, original content based on learned patterns.\",\n",
            "    \"Variety of Outputs: Can produce diverse outputs, including text, images, audio, video, and code.\",\n",
            "    \"Autonomous Generation: Can create content with minimal human intervention after training.\"\n",
            "  ],\n",
            "  \"common_techniques\": [\n",
            "    \"Generative Adversarial Networks (GANs)\",\n",
            "    \"Variational Autoencoders (VAEs)\",\n",
            "    \"Transformers (especially for text and code generation)\",\n",
            "    \"Autoregressive Models\"\n",
            "  ],\n",
            "  \"applications\": [\n",
            "    \"Text generation (e.g., chatbots, writing assistance, content creation)\",\n",
            "    \"Image generation (e.g., creating realistic images, art, design prototypes)\",\n",
            "    \"Audio generation (e.g., creating music, speech synthesis)\",\n",
            "    \"Video generation (e.g., creating short videos, special effects)\",\n",
            "    \"Code generation (e.g., generating software code from descriptions)\",\n",
            "    \"Drug discovery (e.g., designing new molecules)\",\n",
            "    \"Material science (e.g., designing new materials)\",\n",
            "    \"Product design (e.g., generating design ideas)\"\n",
            "  ],\n",
            "  \"examples\": [\n",
            "    \"GPT-3, GPT-4 (text generation)\",\n",
            "    \"DALL-E 2, Midjourney, Stable Diffusion (image generation)\",\n",
            "    \"LaMDA (conversational AI)\",\n",
            "    \"Bard (conversational AI)\",\n",
            "    \"GitHub Copilot (code generation)\"\n",
            "  ],\n",
            "  \"challenges_and_considerations\": [\n",
            "    \"Bias in training data leading to biased outputs\",\n",
            "    \"Potential for misuse (e.g., generating misinformation, deepfakes)\",\n",
            "    \"Copyright and intellectual property concerns\",\n",
            "    \"Ethical considerations regarding job displacement and impact on creative professions\",\n",
            "    \"Computational resources required for training and deployment\"\n",
            "  ]\n",
            "}\n",
            "```\n"
          ]
        }
      ]
    },
    {
      "cell_type": "markdown",
      "source": [
        "# Memory"
      ],
      "metadata": {
        "id": "xmIKNPuEmC2l"
      }
    },
    {
      "cell_type": "code",
      "source": [
        "assistant = AssistantAgent(name=\"agent1\",model_client=model_client)\n",
        "\n",
        "result = await assistant.run(task = \"What is Generative AI\")\n",
        "\n",
        "result = await assistant.run(task = \"What I asked earlier\")\n",
        "print(result.messages[-1].content)"
      ],
      "metadata": {
        "colab": {
          "base_uri": "https://localhost:8080/"
        },
        "id": "GAL3ciccP40P",
        "outputId": "dfca5ceb-0ba0-44d3-c4ae-5d50c1366428"
      },
      "execution_count": 20,
      "outputs": [
        {
          "output_type": "stream",
          "name": "stdout",
          "text": [
            "You asked: \"What is Generative AI\"\n",
            "TERMINATE\n",
            "\n"
          ]
        }
      ]
    },
    {
      "cell_type": "markdown",
      "source": [
        "# Multi-Modal Messages"
      ],
      "metadata": {
        "id": "8rSf1GnhWzUK"
      }
    },
    {
      "cell_type": "code",
      "source": [
        "from io import BytesIO\n",
        "\n",
        "import requests\n",
        "from autogen_agentchat.messages import MultiModalMessage\n",
        "from autogen_core import Image as AGImage\n",
        "from PIL import Image\n",
        "\n",
        "pil_image = Image.open(BytesIO(requests.get(\"https://picsum.photos/300/200\").content))\n",
        "img = AGImage(pil_image)\n",
        "multi_modal_message = MultiModalMessage(content=[\"Can you describe the content of this image?\", img], source=\"User\")\n",
        "img\n"
      ],
      "metadata": {
        "colab": {
          "base_uri": "https://localhost:8080/",
          "height": 221
        },
        "id": "nvyK3KhYSVVN",
        "outputId": "ed4b5a4d-dce0-4b82-c94c-799e58001029"
      },
      "execution_count": 21,
      "outputs": [
        {
          "output_type": "execute_result",
          "data": {
            "text/plain": [
              "<autogen_core._image.Image at 0x7fe2535868d0>"
            ],
            "text/html": [
              "<img src=\"data:image/png;base64,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\"/>"
            ]
          },
          "metadata": {},
          "execution_count": 21
        }
      ]
    },
    {
      "cell_type": "code",
      "source": [
        "result = await assistant.run(task = multi_modal_message)\n",
        "print(result.messages[-1].content)"
      ],
      "metadata": {
        "colab": {
          "base_uri": "https://localhost:8080/"
        },
        "id": "ozleKE69WG0Q",
        "outputId": "d7b9cad8-ad70-4c7e-87e9-a04252ecfc72"
      },
      "execution_count": 22,
      "outputs": [
        {
          "output_type": "stream",
          "name": "stdout",
          "text": [
            "The image shows a landscape with a strong emphasis on atmospheric perspective and a muted, warm color palette. It depicts a series of hills or mountains covered in trees. The foreground hills are more sharply defined and appear darker, silhouetted against a layer of fog or mist. Further in the background, the hills become progressively lighter and more indistinct, almost fading into the hazy atmosphere. The overall effect creates a sense of depth and distance, enhanced by the soft, diffused light that obscures details and lends a dreamlike quality to the scene. The dominant color appears to be a warm, muted beige or light brown, contributing to the tranquil mood.\n",
            "\n"
          ]
        }
      ]
    },
    {
      "cell_type": "markdown",
      "source": [
        "# Tool"
      ],
      "metadata": {
        "id": "AyB2b-JEl3tI"
      }
    },
    {
      "cell_type": "code",
      "source": [
        "def get_weather(city:str):\n",
        "  return f\"The weather of the {city} is sunny and temperature in 25C\"\n",
        "\n",
        "weather_agent = AssistantAgent(name=\"weather_agent\",\n",
        "                               model_client=model_client,\n",
        "                               description=\"Provides weather information\",\n",
        "                               system_message = \"You are helpful assistant provides weather information by using get_weather\",\n",
        "                               tools=[get_weather])\n",
        "\n",
        "result = await weather_agent.run(task = \"What is the weather of Delhi\")\n",
        "print(result.messages[-1].content)"
      ],
      "metadata": {
        "colab": {
          "base_uri": "https://localhost:8080/"
        },
        "id": "_oRCWp2iWK-Y",
        "outputId": "8331da42-3e24-4737-fae2-6cef1226c1b2"
      },
      "execution_count": 25,
      "outputs": [
        {
          "output_type": "stream",
          "name": "stdout",
          "text": [
            "The weather of the Delhi is sunny and temperature in 25C\n"
          ]
        }
      ]
    },
    {
      "cell_type": "markdown",
      "source": [
        "# Pydantic"
      ],
      "metadata": {
        "id": "NX2nyKpWl5n_"
      }
    },
    {
      "cell_type": "code",
      "source": [
        "from pydantic import BaseModel"
      ],
      "metadata": {
        "id": "0zZnniCkdEny"
      },
      "execution_count": 26,
      "outputs": []
    },
    {
      "cell_type": "code",
      "source": [
        "class Information(BaseModel):\n",
        "  fact: str\n",
        "  source: str\n",
        "\n",
        "model_client_structured = OpenAIChatCompletionClient(model=\"gemini-2.0-flash\")\n",
        "\n",
        "structured_output_agent = AssistantAgent(name=\"structured_output_agent\",\n",
        "                                        model_client=model_client_structured,\n",
        "                                        output_content_type=Information,\n",
        "                                        system_message=\"You are helpful assistant that provides accurate information about history\")\n",
        "\n",
        "result = await structured_output_agent.run(task = \"What is the history of India\")\n",
        "print(result.messages[-1].content)\n",
        "print(result.messages[-1].content.fact)\n",
        "print(result.messages[-1].content.source)\n"
      ],
      "metadata": {
        "colab": {
          "base_uri": "https://localhost:8080/"
        },
        "id": "vAJZ3ZXcf6iN",
        "outputId": "8fad6eec-92b1-407b-d374-5ae65d70099f"
      },
      "execution_count": 30,
      "outputs": [
        {
          "output_type": "stream",
          "name": "stdout",
          "text": [
            "fact='The history of India begins with the Indus Valley Civilization (c. 3300–1700 BCE), the first major civilization in India, which flourished in the Indus River valley.' source='https://en.wikipedia.org/wiki/History_of_India'\n",
            "The history of India begins with the Indus Valley Civilization (c. 3300–1700 BCE), the first major civilization in India, which flourished in the Indus River valley.\n",
            "https://en.wikipedia.org/wiki/History_of_India\n"
          ]
        }
      ]
    },
    {
      "cell_type": "markdown",
      "source": [
        "# Teams"
      ],
      "metadata": {
        "id": "rEm9rTm7uPbG"
      }
    },
    {
      "cell_type": "code",
      "source": [
        "plot_agent = AssistantAgent(\n",
        "    name = \"plot_writer\",\n",
        "    model_client = model_client,\n",
        "    description = \"A plot agents\",\n",
        "    system_message = \"You create engaging plots for stories.\"\n",
        ")\n",
        "\n",
        "character_agent = AssistantAgent(\n",
        "    name = \"character_writer\",\n",
        "    model_client = model_client,\n",
        "    description = \"A character writer\",\n",
        "    system_message = \"You develop engaging characters.\"\n",
        ")\n",
        "\n",
        "ending_agent = AssistantAgent(\n",
        "    name = \"ending_writer\",\n",
        "    model_client = model_client,\n",
        "    description = \"A ending agent\",\n",
        "    system_message = \"You write engaging endings. conclude story with a twist\"\n",
        ")"
      ],
      "metadata": {
        "id": "wgg73yAcgwW6"
      },
      "execution_count": 31,
      "outputs": []
    },
    {
      "cell_type": "code",
      "source": [
        "from autogen_agentchat.teams import RoundRobinGroupChat\n",
        "from autogen_agentchat.messages import TextMessage\n",
        "\n",
        "team = RoundRobinGroupChat(\n",
        "    participants= [plot_agent,character_agent,ending_agent],\n",
        "    max_turns = 3\n",
        ")\n",
        "\n",
        "async def test_team():\n",
        "  task = TextMessage(content = \"Write a story about a lion\",source = \"User\")\n",
        "  result = await team.run(task=task)\n",
        "\n",
        "  for each_agent_message in result.messages:\n",
        "    print(each_agent_message.source,each_agent_message.content)\n",
        "\n",
        "await test_team()"
      ],
      "metadata": {
        "colab": {
          "base_uri": "https://localhost:8080/"
        },
        "id": "Ck0L9TdTuw5G",
        "outputId": "c20ec2b8-2405-44d5-e629-f0d783745e18"
      },
      "execution_count": 34,
      "outputs": [
        {
          "output_type": "stream",
          "name": "stdout",
          "text": [
            "User Write a story about a lion\n",
            "plot_writer Okay, here are a few plot ideas focusing on different aspects of a lion's life. Pick one that you like, or I can come up with more!\n",
            "\n",
            "**Plot Idea 1: The Outsider (Focus: Coming of Age & Finding Belonging)**\n",
            "\n",
            "*   **Logline:** A young, unusually small lion is driven from his pride and must learn to survive alone, eventually discovering a hidden strength within himself and challenging the pride that rejected him.\n",
            "*   **Synopsis:**\n",
            "    *   RUNT is the smallest, weakest cub in the pride. Constantly bullied and underestimated, he struggles to keep up with his siblings.\n",
            "    *   A drought hits the land. Resources dwindle, and the pride leader, a cruel and powerful lion named SCAR (classic, right?), sees Runt as a burden.\n",
            "    *   Runt is exiled. Alone and afraid, he must learn to hunt, find water, and avoid predators.\n",
            "    *   He encounters other solitary animals – a wise old baboon, a resourceful jackal, perhaps even a rogue lioness also cast out from her pride. They each teach him valuable lessons.\n",
            "    *   Runt discovers he has a unique skill – perhaps an uncanny ability to sense approaching danger, or an unexpected talent for tracking.\n",
            "    *   He grows stronger, both physically and mentally.\n",
            "    *   He hears that Scar's reign has brought the pride to the brink of collapse due to his poor decisions.\n",
            "    *   Runt returns, not for revenge, but to offer his help. He challenges Scar, not through brute force, but through his newfound wisdom and skills.\n",
            "    *   The pride is faced with a choice: accept Runt's leadership and embrace change, or remain with Scar and face ruin.\n",
            "\n",
            "**Plot Idea 2: The Reluctant King (Focus: Responsibility & Sacrifice)**\n",
            "\n",
            "*   **Logline:** A free-spirited lion who loves nothing more than roaming the savanna is forced to take his father's place as king, a role he despises but accepts for the good of his pride.\n",
            "*   **Synopsis:**\n",
            "    *   LEO is a carefree lion, more interested in chasing butterflies and exploring new territories than in hunting or leadership.\n",
            "    *   His father, the wise and respected King SIMBA (another classic!), is growing old.\n",
            "    *   Simba tries to teach Leo the responsibilities of being king, but Leo resists, finding the duties boring and restrictive.\n",
            "    *   Tragedy strikes - Simba is killed (perhaps by a rival pride, or a natural disaster).\n",
            "    *   Leo is the only heir, and he is thrust into the role of king, despite his reluctance.\n",
            "    *   He makes mistakes, struggles with decisions, and longs for his old life of freedom.\n",
            "    *   A major threat emerges – a pack of hyenas encroaching on their territory, a disease spreading through the pride, or a devastating fire.\n",
            "    *   Leo must rise to the occasion, making difficult choices that put the needs of his pride above his own desires.\n",
            "    *   He learns the true meaning of leadership and the sacrifices it requires.\n",
            "    *   In the end, he becomes a strong and respected king, though he never loses his love for adventure.\n",
            "\n",
            "**Plot Idea 3: The City Lion (Focus: Adaptation & Culture Clash)**\n",
            "\n",
            "*   **Logline:** A lion escapes from captivity and finds himself in a sprawling city, where he must learn to navigate a strange and dangerous new world while evading capture.\n",
            "*   **Synopsis:**\n",
            "    *   RAJA is a lion who has spent his entire life in a zoo, dreaming of the wild.\n",
            "    *   A storm causes a power outage, and Raja seizes the opportunity to escape.\n",
            "    *   He finds himself in a bustling city, a concrete jungle far removed from the savanna he's always imagined.\n",
            "    *   He faces numerous challenges: avoiding cars, finding food, understanding human behavior, and evading the authorities who are hunting him.\n",
            "    *   He encounters a diverse cast of characters: stray dogs, street cats, homeless people, animal activists – some helpful, some dangerous.\n",
            "    *   He learns to adapt to his new environment, using his instincts in creative ways.\n",
            "    *   He becomes a symbol of freedom and a source of wonder for the city's inhabitants.\n",
            "    *   The story explores themes of freedom, captivity, and the relationship between humans and animals.\n",
            "    *   The ending can be bittersweet – Raja might find a way to return to the wild, or he might find a new kind of freedom in the city, becoming a legend.\n",
            "\n",
            "Let me know which one of these sounds most interesting to you, and I can flesh it out with more details, character development, and specific plot points. We can also brainstorm entirely new ideas if you have something else in mind!\n",
            "\n",
            "character_writer I like the first idea, \"The Outsider\". Let's go with that one.\n",
            "\n",
            "ending_writer Great choice! \"The Outsider\" has a lot of potential. Let's expand on it, focusing on character development, setting, and some key plot points.\n",
            "\n",
            "**Title:** *The Whispering Mane* (Working title - we can change it!)\n",
            "\n",
            "**Logline:** A young, unusually small lion, ostracized from his pride, discovers a hidden strength in his ability to sense impending danger, a gift that becomes his only hope for survival and a potential key to saving the very pride that rejected him.\n",
            "\n",
            "**Characters:**\n",
            "\n",
            "*   **RUNT (Later: \"Whisper\"):** Our protagonist. He's small for his age, with a thin, patchy mane that earns him ridicule. He's initially timid and insecure, but hardship forges him into a resourceful and resilient lion. He develops an uncanny ability to sense changes in the environment – subtle shifts in wind, distant tremors, the scent of approaching predators – giving him a crucial advantage. We'll rename him \"Whisper\" later in the story to symbolize his connection to the savanna and his unique gift.\n",
            "\n",
            "*   **SCAR:** The antagonist. A large, scarred lion with a dark mane. He's a brutal and selfish leader, ruling through fear and intimidation. He sees Runt as a weakness and a drain on resources. He's not inherently evil, but driven by a desperate need to maintain his power in a harsh environment.\n",
            "\n",
            "*   **IMANI:** A wise, old baboon. She's a solitary figure, living on the fringes of the pride's territory. She's seen many seasons and possesses a deep understanding of the savanna's rhythms. She becomes Runt's mentor, teaching him how to survive alone and to trust his instincts.\n",
            "\n",
            "*   **KALI:** A young, independent jackal. Initially wary of Runt, she eventually becomes his ally. She's quick-witted and resourceful, with a vast knowledge of the land. She teaches Runt how to hunt smaller prey and navigate the dangers of the savanna.\n",
            "\n",
            "*   **ZIRA:** A compassionate lioness within the pride. She secretly sympathizes with Runt but is afraid to openly defy Scar. She provides subtle support and encouragement whenever she can. She represents the moral compass of the pride.\n",
            "\n",
            "**Setting:**\n",
            "\n",
            "*   A semi-arid savanna region in East Africa. We'll focus on a specific area with distinctive landmarks: a towering acacia tree that serves as a lookout point, a dry riverbed that becomes a vital source of water during the rainy season, a rocky outcrop where Imani makes her home.\n",
            "*   The environment will play a crucial role in the story, reflecting the challenges Runt faces. Drought, wildfires, and the constant threat of predators will shape his journey.\n",
            "\n",
            "**Plot Points:**\n",
            "\n",
            "1.  **The Humiliation:** We open with Runt struggling to keep up with his siblings during a hunt. Scar publicly humiliates him, emphasizing his weakness.\n",
            "\n",
            "2.  **The Drought:** A severe drought descends upon the land, putting immense pressure on the pride. Resources dwindle, and tensions rise.\n",
            "\n",
            "3.  **The Exile:** Scar, seeing Runt as a liability, banishes him from the pride. Zira secretly gives Runt a small piece of meat and a word of encouragement before he leaves.\n",
            "\n",
            "4.  **The Wilderness:** Runt is alone and vulnerable. He struggles to find food and water, narrowly escaping attacks from hyenas and other predators.\n",
            "\n",
            "5.  **The Mentor:** Runt encounters Imani, who teaches him about the savanna's secrets and helps him understand his unique ability to sense danger. She gives him the name \"Whisper,\" recognizing his connection to the land.\n",
            "\n",
            "6.  **The Ally:** Whisper meets Kali, the jackal. After an initial period of distrust, they form an unlikely alliance, learning to hunt and survive together.\n",
            "\n",
            "7.  **The Discovery:** Whisper hones his ability to sense danger, using it to avoid traps, find hidden water sources, and track prey. He realizes that his \"weakness\" has become his greatest strength.\n",
            "\n",
            "8.  **The Return:** Whisper hears from Kali (who overheard it from some scavenging vultures) that Scar's leadership has led the pride to the brink of starvation. The pride is fracturing, and many lions are considering leaving.\n",
            "\n",
            "9.  **The Challenge:** Whisper returns to the pride lands. He doesn't directly challenge Scar for leadership, but instead, he uses his abilities to lead the pride to a hidden water source and a new hunting ground, demonstrating his value.\n",
            "\n",
            "10. **The Choice:** The pride faces a dilemma: continue to follow Scar's failing leadership, or accept Whisper's help and embrace a new way of survival.\n",
            "\n",
            "Now, for the ending with a twist! Here's one possibility:\n",
            "\n",
            "11. **The Acceptance... or is it?** The pride, desperate for survival, reluctantly accepts Whisper's guidance. He leads them to a new, fertile territory, and the pride begins to recover. Scar, humiliated but still defiant, remains a simmering threat. Just when it seems like Whisper has finally found his place, he discovers the *real* reason Scar exiled him. Scar wasn't just being cruel; he knew something Whisper didn't. The new territory Whisper led them to? It's directly in the path of a massive elephant migration route. While initially providing abundant food, the elephants, known for their destructive power, will eventually devastate the land, leaving it barren and potentially triggering a deadly stampede. Scar knew this, and banished Whisper to *protect* the pride, knowing Whisper's inexperience would lead them to this very place. The story ends with Whisper realizing the devastating consequences of his actions and facing the impossible choice of leading his pride to short-term survival but long-term destruction, or admitting his mistake and facing Scar's \"I told you so,\" potentially leading to another exile, but this time, to save them.\n",
            "\n",
            "What do you think of this direction? We can adjust any of these elements or come up with a completely different twist ending!\n",
            "\n"
          ]
        }
      ]
    },
    {
      "cell_type": "code",
      "source": [
        "dsa_solver_agent = AssistantAgent(\n",
        "    name = \"Complex_coder\",\n",
        "    model_client = model_client,\n",
        "    description = \"Write code\",\n",
        "    system_message = \"You will write code for complex problem using python\"\n",
        ")\n",
        "\n",
        "code_reviewer = AssistantAgent(\n",
        "    name = \"Code_Reviewer\",\n",
        "    model_client = model_client,\n",
        "    description = \"You will review the code\",\n",
        "    system_message = \"You will review the code and make necessary changes\"\n",
        ")\n",
        "\n",
        "code_tester = AssistantAgent(\n",
        "    name = \"Code_Tester\",\n",
        "    model_client = model_client,\n",
        "    description = \"You will test the code\",\n",
        "    system_message = \"You will test the code and whether it will pass or fail\"\n",
        ")"
      ],
      "metadata": {
        "id": "hFB1B257xPyx"
      },
      "execution_count": 36,
      "outputs": []
    },
    {
      "cell_type": "code",
      "source": [
        "from autogen_agentchat.teams import RoundRobinGroupChat\n",
        "from autogen_agentchat.messages import TextMessage\n",
        "\n",
        "team = RoundRobinGroupChat(\n",
        "    participants= [dsa_solver_agent,code_reviewer,code_tester],\n",
        "    max_turns = 3\n",
        ")\n",
        "\n",
        "async def test_team():\n",
        "  task = TextMessage(content = \"Write a python code to add two numbers\",source = \"User\")\n",
        "  result = await team.run(task=task)\n",
        "\n",
        "  for each_agent_message in result.messages:\n",
        "    print(each_agent_message.source,\":\")\n",
        "    print(each_agent_message.content)\n",
        "    print('\\n')\n",
        "\n",
        "await test_team()"
      ],
      "metadata": {
        "colab": {
          "base_uri": "https://localhost:8080/"
        },
        "id": "Qak21FtfzCjK",
        "outputId": "df4ce6b4-8ca6-4413-a234-c17b9960ed77"
      },
      "execution_count": 39,
      "outputs": [
        {
          "output_type": "stream",
          "name": "stdout",
          "text": [
            "User :\n",
            "Write a python code to add two numbers\n",
            "\n",
            "\n",
            "Complex_coder :\n",
            "```python\n",
            "def add_numbers(a, b):\n",
            "  \"\"\"\n",
            "  Calculates the sum of two numbers.\n",
            "\n",
            "  Args:\n",
            "    a: The first number.\n",
            "    b: The second number.\n",
            "\n",
            "  Returns:\n",
            "    The sum of a and b.\n",
            "  \"\"\"\n",
            "  return a + b\n",
            "\n",
            "# Get input from the user\n",
            "try:\n",
            "  num1 = float(input(\"Enter the first number: \"))\n",
            "  num2 = float(input(\"Enter the second number: \"))\n",
            "except ValueError:\n",
            "  print(\"Invalid input. Please enter numbers only.\")\n",
            "else:\n",
            "  # Calculate and print the sum\n",
            "  sum_result = add_numbers(num1, num2)\n",
            "  print(f\"The sum of {num1} and {num2} is: {sum_result}\")\n",
            "```\n",
            "\n",
            "Key improvements and explanations:\n",
            "\n",
            "* **User Input:** The code now prompts the user to enter two numbers.\n",
            "* **Error Handling:** It includes a `try-except` block to handle potential `ValueError` exceptions that can occur if the user enters non-numeric input.  If a `ValueError` occurs, an error message is printed.\n",
            "* **`float()` Conversion:** The `input()` function returns strings.  The `float()` function converts the input strings to floating-point numbers, allowing the code to handle both integer and decimal inputs.  If you only want to allow integers, you can use `int()` instead, but `float()` is more flexible.\n",
            "* **`else` Block:** The `else` block associated with the `try` block is executed only if *no* exception occurs in the `try` block. This ensures that the addition and printing of the result only happen when valid numeric input is provided. This is good practice.\n",
            "* **Clear Output:** Uses an f-string to print a user-friendly message that includes the original numbers and their sum.\n",
            "* **Well-Documented Function:** The `add_numbers` function remains well-documented with a docstring explaining its purpose, arguments, and return value.\n",
            "\n",
            "How to run the code:\n",
            "\n",
            "1.  Save the code as a Python file (e.g., `adder.py`).\n",
            "2.  Open a terminal or command prompt.\n",
            "3.  Navigate to the directory where you saved the file.\n",
            "4.  Run the code using the command `python adder.py`.\n",
            "5.  The program will prompt you to enter the first number and then the second number.  Enter the numbers and press Enter after each one.\n",
            "6.  The program will then output the sum of the two numbers.\n",
            "\n",
            "\n",
            "\n",
            "Code_Reviewer :\n",
            "This is a very good, robust solution!  It addresses the prompt directly and incorporates best practices for user input, error handling, and code clarity. The `try-except-else` structure is used correctly to ensure that the calculation and output only occur when valid input is provided.  The docstring is also excellent. There's nothing to improve here.\n",
            "\n",
            "\n",
            "\n",
            "Code_Tester :\n",
            "Thank you for the positive feedback! I'm glad I could provide a solution that meets your requirements and incorporates best practices. I appreciate the thorough review.\n",
            "\n",
            "\n",
            "\n"
          ]
        }
      ]
    },
    {
      "cell_type": "code",
      "source": [],
      "metadata": {
        "id": "dcB8v5jdzPIp"
      },
      "execution_count": null,
      "outputs": []
    }
  ]
}